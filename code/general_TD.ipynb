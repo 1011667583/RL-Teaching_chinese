{
 "cells": [
  {
   "cell_type": "code",
   "execution_count": 2,
   "metadata": {
    "collapsed": true
   },
   "outputs": [],
   "source": [
    "import numpy as np\n",
    "import matplotlib.pyplot as plt\n",
    "from IPython.core.debugger import set_trace"
   ]
  },
  {
   "cell_type": "code",
   "execution_count": 4,
   "metadata": {
    "collapsed": false
   },
   "outputs": [],
   "source": [
    "# problem set-up\n",
    "def next_s(s):\n",
    "    if s == 0:\n",
    "        return 1\n",
    "    else:\n",
    "        return -1 #terminal\n",
    "def reward(s):\n",
    "    if s == 0:\n",
    "        return np.random.normal(-2,1)\n",
    "    elif s == 1:\n",
    "        return np.random.normal(5,1)"
   ]
  },
  {
   "cell_type": "code",
   "execution_count": 6,
   "metadata": {
    "collapsed": true
   },
   "outputs": [],
   "source": [
    "# learner set-up\n",
    "A = .5 # learning rate\n",
    "gamma = 1 # no temporal discount"
   ]
  },
  {
   "cell_type": "code",
   "execution_count": 13,
   "metadata": {
    "collapsed": false
   },
   "outputs": [
    {
     "name": "stdout",
     "output_type": "stream",
     "text": [
      "[-0.81713137  2.64927705  0.        ]\n",
      "[-0.73069724  4.22288939  0.        ]\n",
      "[ 0.9303807   4.28821419  0.        ]\n",
      "[ 1.63026927  4.83681749  0.        ]\n",
      "[ 1.21554514  4.6188296   0.        ]\n",
      "[ 0.73913833  5.35001351  0.        ]\n",
      "[ 2.05083243  5.21662396  0.        ]\n",
      "[ 3.86772483  5.45954838  0.        ]\n",
      "[ 3.76751086  4.69455025  0.        ]\n",
      "[ 2.48696551  5.07573862  0.        ]\n"
     ]
    }
   ],
   "source": [
    "V = np.zeros(3) #initialize to 0\n",
    "\n",
    "Nepis = 10\n",
    "for k in range(Nepis):\n",
    "    s = 0\n",
    "    goal = 0\n",
    "    while s != -1:\n",
    "        s_new = next_s(s)\n",
    "        pred_err = reward(s) + gamma*V[s_new] - V[s]\n",
    "        V[s] = V[s] + A * pred_err\n",
    "        s = s_new\n",
    "\n",
    "    print(V) "
   ]
  }
 ],
 "metadata": {
  "kernelspec": {
   "display_name": "Python [Root]",
   "language": "python",
   "name": "Python [Root]"
  },
  "language_info": {
   "codemirror_mode": {
    "name": "ipython",
    "version": 3
   },
   "file_extension": ".py",
   "mimetype": "text/x-python",
   "name": "python",
   "nbconvert_exporter": "python",
   "pygments_lexer": "ipython3",
   "version": "3.5.2"
  }
 },
 "nbformat": 4,
 "nbformat_minor": 0
}
