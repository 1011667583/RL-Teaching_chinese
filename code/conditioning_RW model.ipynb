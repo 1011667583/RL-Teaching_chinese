{
 "cells": [
  {
   "cell_type": "code",
   "execution_count": 9,
   "metadata": {
    "collapsed": true
   },
   "outputs": [],
   "source": [
    "# conditioning: CS, US, P(US|CS), R(US) => each trial, (CS,US=0 or 1,R = 0 or 1)\n",
    "# learning: Rescorla-Wagner model, trial-by-trial learning; learning parameter: A as learning rate\n",
    "# variation to be tested: several compounded CS"
   ]
  },
  {
   "cell_type": "code",
   "execution_count": 10,
   "metadata": {
    "collapsed": false
   },
   "outputs": [
    {
     "name": "stdout",
     "output_type": "stream",
     "text": [
      "Once deleted, variables cannot be recovered. Proceed (y/[n])? y\n"
     ]
    }
   ],
   "source": [
    "import numpy as np\n",
    "import matplotlib.pyplot as plt"
   ]
  },
  {
   "cell_type": "code",
   "execution_count": 11,
   "metadata": {
    "collapsed": true
   },
   "outputs": [],
   "source": [
    "# environment creator\n",
    "def gen_trial():\n",
    "    # N is the number of trials\n",
    "    cs = True # single conditional stimuli\n",
    "    us = np.random.rand(1)>.2 # in 80% of the cases CS will be followed by a US\n",
    "    trial = [cs,us]\n",
    "    return trial\n"
   ]
  },
  {
   "cell_type": "code",
   "execution_count": 26,
   "metadata": {
    "collapsed": true
   },
   "outputs": [],
   "source": [
    "# settings for the learner\n",
    "A = .1 # learning rate\n"
   ]
  },
  {
   "cell_type": "code",
   "execution_count": 27,
   "metadata": {
    "collapsed": false
   },
   "outputs": [],
   "source": [
    "# now start the experiment\n",
    "Ntr = 30\n",
    "V_us = 1 # initial value for us (e.g., food) is positive -- an attractive stimuli\n",
    "V_cs = 0 # initial value for the cs (e.g., a beep sound) is neutral\n",
    "V_arr = np.ones(Ntr)\n",
    "for k in range(Ntr):\n",
    "    V_arr[k] = V_cs\n",
    "    [cs,us] = gen_trial()\n",
    "    V_cs = V_cs + A *(V_us * us - V_cs * cs)"
   ]
  },
  {
   "cell_type": "code",
   "execution_count": 29,
   "metadata": {
    "collapsed": false
   },
   "outputs": [
    {
     "data": {
      "image/png": "[encoded data removed]",
      "text/plain": [
       "<matplotlib.figure.Figure at 0x10c789ba8>"
      ]
     },
     "metadata": {},
     "output_type": "display_data"
    }
   ],
   "source": [
    "plt.plot(np.arange(Ntr),V_arr)\n",
    "plt.xlabel('trial num')\n",
    "plt.ylabel('V(CS)')\n",
    "plt.show()"
   ]
  }
 ],
 "metadata": {
  "kernelspec": {
   "display_name": "Python [Root]",
   "language": "python",
   "name": "Python [Root]"
  },
  "language_info": {
   "codemirror_mode": {
    "name": "ipython",
    "version": 3
   },
   "file_extension": ".py",
   "mimetype": "text/x-python",
   "name": "python",
   "nbconvert_exporter": "python",
   "pygments_lexer": "ipython3",
   "version": "3.5.2"
  }
 },
 "nbformat": 4,
 "nbformat_minor": 0
}
