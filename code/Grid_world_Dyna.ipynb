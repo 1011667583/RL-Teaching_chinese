{
 "cells": [
  {
   "cell_type": "code",
   "execution_count": 1,
   "metadata": {
    "collapsed": true
   },
   "outputs": [],
   "source": [
    "# environment: grids with size m*n; goal / orginary grid / windy grid / cliff grid / blocking grid / start point (Can be random).\n",
    "# other variation: \n",
    "# task: can be temporal discounting (R(goal)=0, R(orginary) =-1), or not (R(goal)=1, others =0).\n",
    "# different learning algorithm: dyna, compared with other simpler ones\n"
   ]
  },
  {
   "cell_type": "code",
   "execution_count": 2,
   "metadata": {
    "collapsed": false
   },
   "outputs": [],
   "source": [
    "import numpy as np\n",
    "import matplotlib.pyplot as plt\n",
    "from IPython.core.debugger import set_trace\n",
    "from IPython.display import clear_output\n",
    "from time import sleep\n"
   ]
  },
  {
   "cell_type": "code",
   "execution_count": 3,
   "metadata": {
    "collapsed": false
   },
   "outputs": [
    {
     "name": "stdout",
     "output_type": "stream",
     "text": [
      "[[ 0.  0.  0. ...,  0. -1.  1.]\n",
      " [ 0.  0. -1. ...,  0. -1.  0.]\n",
      " [ 0.  0. -1. ...,  0. -1.  0.]\n",
      " ..., \n",
      " [ 0.  0.  0. ...,  0.  0.  0.]\n",
      " [ 0.  0.  0. ...,  0.  0.  0.]\n",
      " [ 0.  0.  0. ...,  0.  0.  0.]]\n"
     ]
    }
   ],
   "source": [
    "# Environment setup: Sutton book example 8.1 dyna maze\n",
    "\n",
    "# grid configuration\n",
    "gsize = [60,90]\n",
    "s0=[2,0] # initial state\n",
    "sg = [0,-1]\n",
    "gw = np.zeros([gsize[0],gsize[1]]) # 0 is orginary block\n",
    "gw[sg[0],sg[1]]= 1 # set goals\n",
    "#gw[1:-2,0]= -100 # cliff\n",
    "gw[1:4,2]=-1\n",
    "gw[0:3,-2] = -1\n",
    "gw[-2,-4] = -1\n",
    "acts = ['u','d','l','r']\n",
    "# action and transition matrix\n",
    "def state_act(state,action,gsize):\n",
    "    # action is a character of either u,d,l,r (up,down,left,right)\n",
    "    # state is a 1*2 tuple, marking the current position\n",
    "    newstate = state[:]\n",
    "    if action == 'u' or action == 0:\n",
    "        newstate[0]=max(0,state[0]-1)\n",
    "    elif action == 'd' or action == 1:\n",
    "        newstate[0]=min(gsize[0]-1,state[0]+1)\n",
    "    elif action == 'l' or action == 2:\n",
    "        newstate[1]=max(0,state[1]-1)\n",
    "    elif action == 'r' or action == 3:\n",
    "        newstate[1]=min(gsize[1]-1,state[1]+1)\n",
    "    else:\n",
    "        raise ValueError('action not valid')\n",
    "    \n",
    "    if gw[newstate[0],newstate[1]] == -100: # fall into the cliff? return to the initial state\n",
    "        newestate = [0,0]\n",
    "    if gw[newstate[0],newstate[1]] == -1: # means it's blocked, so remain unmoved\n",
    "        newestate = state[:]       \n",
    "    return newstate    \n",
    "   \n",
    "# reward setup\n",
    "def reward(state, gw):\n",
    "    # state represents the current position; gw is the setting of grid world\n",
    "    if gw[state[0],state[1]] == 1: # goal\n",
    "        R = 1\n",
    "    elif gw[state[0],state[1]] == -100: # cliff        \n",
    "        R = -100 # with temporal discount\n",
    "    else:\n",
    "        R = 0\n",
    "    return R\n",
    "print(gw)"
   ]
  },
  {
   "cell_type": "code",
   "execution_count": 4,
   "metadata": {
    "collapsed": false
   },
   "outputs": [],
   "source": [
    "def s2sid(state,gsize): # convert tuple to integer index\n",
    "    return state[0]+state[1]*gsize[0]\n",
    "def sid2s(sid,gsize): # convert tuple to integer index\n",
    "    return [sid%gsize[0],int(sid/gsize[0])]"
   ]
  },
  {
   "cell_type": "code",
   "execution_count": 5,
   "metadata": {
    "collapsed": true
   },
   "outputs": [],
   "source": [
    "# Learner setup\n",
    "\"\"\"\n",
    "# optimal setting for cliff walk\n",
    "A = .5 # learning rate\n",
    "gamma = 1 # no temporal discount for future state\n",
    "\n",
    "\"\"\"\n",
    "A = .1 # learning rate: recommended by example 8.1\n",
    "gamma = .5\n",
    "\n",
    "def e_greedy(state, Q): #  e-greedy\n",
    "    e = 0.1 \n",
    "    if np.random.rand(1) < e:\n",
    "        action=np.random.randint(len(acts))\n",
    "    else:\n",
    "        Q_now = Q[state[0]][state[1]]\n",
    "        allmax = [i for i, j in enumerate(Q_now) if j == max(Q_now)] # find all actions of largest Qs\n",
    "        action = allmax[np.random.randint(len(allmax))] # randomly select one if there's tie; otherwise\n",
    "\n",
    "    return action\n"
   ]
  },
  {
   "cell_type": "code",
   "execution_count": 6,
   "metadata": {
    "collapsed": true
   },
   "outputs": [],
   "source": [
    "# dyna set-up\n",
    "Nrep = 5 # planning steps. 0 equivalent to non-planning agent\n",
    "m_unit = {'r':np.nan, 'snew':np.nan} #model unit\n"
   ]
  },
  {
   "cell_type": "code",
   "execution_count": 7,
   "metadata": {
    "collapsed": false
   },
   "outputs": [
    {
     "name": "stdout",
     "output_type": "stream",
     "text": [
      "[  88366.   38121.  640836.  275034.  179981.  108911.  133474.   20010.\n",
      "  462240.   15114.   13893.    4908.   11268.   15786.   15588.    9061.\n",
      "   11613.   16662.    2737.    4812.]\n"
     ]
    },
    {
     "data": {
      "image/png": "[encoded data removed]",
      "text/plain": [
       "<matplotlib.figure.Figure at 0x104f305f8>"
      ]
     },
     "metadata": {},
     "output_type": "display_data"
    }
   ],
   "source": [
    "# start learning\n",
    "Nepis = 20 # total episode num\n",
    "Q = np.zeros([gsize[0],gsize[1],len(acts)])\n",
    "Q[sg[0],sg[1]]=reward(sg,gw) # initialize the value function of goal state -- important!\n",
    "\n",
    "isQLearning=False\n",
    "isSARSA=False\n",
    "isDyna=True # dyna-Q\n",
    "\n",
    "steps = np.zeros(Nepis)\n",
    "for k in range(Nepis):\n",
    "    # initialization\n",
    "    s = s0\n",
    "\n",
    "    model = [[m_unit for ii in range(len(acts))] for jj in range(gw.size)] #2D array of dictionary\n",
    "    \n",
    "    # keep track of learning progress\n",
    "    nstep = 0\n",
    "    visited = []\n",
    "    while gw[s[0],s[1]] != 1:      \n",
    "        a = e_greedy(s,Q)\n",
    "        r = reward(s,gw)\n",
    "        s_new = state_act(s,a,gsize)\n",
    "\n",
    "        if isSARSA == True:\n",
    "            a_new = e_greedy(s_new,Q) # use the same policy as current state\n",
    "        elif isQLearning == True or isDyna == True:\n",
    "            a_new = np.argmax(Q[s_new[0]][s_new[1]])             \n",
    "            # use the best possible action; not breaking tie randomly\n",
    "            #pdb.set_trace()\n",
    "                   \n",
    "        nstep = nstep + 1\n",
    "        \n",
    "        # print the current state and action\n",
    "        \"\"\"\n",
    "        seegrd = gw.tolist()\n",
    "        seegrd[s[0]][s[1]] = acts[a]\n",
    "\n",
    "        clear_output()             \n",
    "        print(seegrd)            \n",
    "        sleep(1)\n",
    "        \n",
    "        \"\"\"\n",
    "        pred_err = r + gamma*Q[s_new[0],s_new[1],a_new] - Q[s[0],s[1],a]\n",
    "        Q[s[0],s[1],a] = Q[s[0],s[1],a] + A * pred_err\n",
    "\n",
    "        if isDyna == True:\n",
    "            # store the world model\n",
    "            sid=s2sid(s,gsize) # convert tuple to integer: more compact representation\n",
    "            model[sid][a]['r'] = r \n",
    "            model[sid][a]['snew'] = s2sid(s_new,gsize)           \n",
    "            if [sid,a] not in visited: # new s-a pair encountered!\n",
    "                visited.append([sid,a])\n",
    "\n",
    "            # do simulated learning\n",
    "            for krep in range(Nrep):\n",
    "                # randomly select a s-a pair that have been visited, and update it\n",
    "                [ksid,ka] = visited[np.random.randint(len(visited))]\n",
    "                revs = sid2s(ksid,gsize)\n",
    "                kr = model[ksid][ka]['r']\n",
    "                ks_new = model[ksid][ka]['snew']\n",
    "                ks_new=sid2s(ks_new,gsize)\n",
    "                ka_new = np.argmax(Q[ks_new[0]][ks_new[1]]) #not breaking tie              \n",
    "                pred_err = kr + gamma*Q[ks_new[0],ks_new[1],ka_new] - Q[revs[0],revs[1],ka]\n",
    "                Q[revs[0]][revs[1]][ka] = Q[revs[0]][revs[1]][ka] + A * pred_err\n",
    "                \n",
    "                # to-do: deliberately select? priortorized search?\n",
    "                \n",
    "            \n",
    "        s = s_new\n",
    "    steps[k] = nstep\n",
    "# show the decrease of steps per episode -- average over every 10 episodes\n",
    "nav=1\n",
    "print(np.mean(np.reshape(steps,(int(Nepis/nav),nav)),axis=1)) \n",
    "\n",
    "\n",
    "plt.plot(np.mean(np.reshape(steps,(int(Nepis/nav),nav)),axis=1))\n",
    "plt.show()"
   ]
  },
  {
   "cell_type": "code",
   "execution_count": null,
   "metadata": {
    "collapsed": true
   },
   "outputs": [],
   "source": []
  }
 ],
 "metadata": {
  "anaconda-cloud": {},
  "kernelspec": {
   "display_name": "Python [Root]",
   "language": "python",
   "name": "Python [Root]"
  },
  "language_info": {
   "codemirror_mode": {
    "name": "ipython",
    "version": 3
   },
   "file_extension": ".py",
   "mimetype": "text/x-python",
   "name": "python",
   "nbconvert_exporter": "python",
   "pygments_lexer": "ipython3",
   "version": "3.5.2"
  }
 },
 "nbformat": 4,
 "nbformat_minor": 0
}
